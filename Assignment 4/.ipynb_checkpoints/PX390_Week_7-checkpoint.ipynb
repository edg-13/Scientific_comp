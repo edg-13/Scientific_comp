{
 "cells": [
  {
   "cell_type": "markdown",
   "metadata": {},
   "source": [
    "# Solving Advection Equations"
   ]
  },
  {
   "cell_type": "markdown",
   "metadata": {},
   "source": [
    "### 1 dimensional advection equation:\n",
    "$\\frac{\\mathrm{d}y}{\\mathrm{d}t} + v \\frac{\\mathrm{d}y}{\\mathrm{d}x} = 0$"
   ]
  },
  {
   "cell_type": "markdown",
   "metadata": {},
   "source": [
    "### Numerical solutions using three different methods:\n",
    "- Forward time centred space (FTCS) scheme: $\\frac{y_k^{j+1}-y_k^{j}}{\\Delta t} + v \\frac{y_{k+1}^{j}-y_{k-1}^{j}}{2 \\Delta x} = 0$\n",
    "- Lax-Wendroff scheme with damping: $\\frac{y_k^{j+1}-y_k^{j}}{\\Delta t} + v \\frac{y_{k+1}^{j}-y_{k-1}^{j}}{2 \\Delta x} - \\gamma \\frac{y_{k+1}^{j}+y_{k-1}^{j} - 2y_{k}^{j} }{(\\Delta x)^2} = 0$ \\\n",
    "stability: $\\gamma \\ge v^2 \\Delta t$\n",
    "- Upwinding scheme: $\\frac{y_k^{j+1}-y_k^{j}}{\\Delta t} + v \\frac{y_{k}^{j}-y_{k-1}^{j}}{\\Delta x} = 0$ for $v > 0$ \\\n",
    "Courant-Friedrichs-Lewy condition: $v \\frac{\\Delta t}{\\Delta x} < 1$"
   ]
  },
  {
   "cell_type": "code",
   "execution_count": 1,
   "metadata": {},
   "outputs": [],
   "source": [
    "%matplotlib inline\n",
    "from ipywidgets import interactive\n",
    "import matplotlib.pyplot as plt\n",
    "import numpy as np\n"
   ]
  },
  {
   "cell_type": "code",
   "execution_count": 11,
   "metadata": {},
   "outputs": [],
   "source": [
    "time = 100.0\n",
    "ts = 0.2 \n",
    "len_ = 100\n",
    "dx = 1.0\n",
    "vel = 1.0\n",
    "gamma = 10.0\n",
    "with open(\"/Users/albert/Data/PX390_Week7/input.dat\",\"w\") as f:\n",
    "    f.write(\"{} {} {} {} {} {}\".format(time,ts,len_,dx,vel,gamma))\n"
   ]
  },
  {
   "cell_type": "code",
   "execution_count": 12,
   "metadata": {},
   "outputs": [],
   "source": [
    "FTCS = np.loadtxt(\"/Users/albert/Data/PX390_Week7/le7_advect_FTCS.out\")\n",
    "LW = np.loadtxt(\"/Users/albert/Data/PX390_Week7/le7_advect_LW.out\")\n",
    "UW = np.loadtxt(\"/Users/albert/Data/PX390_Week7/le7_advect_UW.out\")"
   ]
  },
  {
   "cell_type": "code",
   "execution_count": 13,
   "metadata": {},
   "outputs": [
    {
     "data": {
      "application/vnd.jupyter.widget-view+json": {
       "model_id": "fa6fd9a747b04e06a65993c81b1fa5b0",
       "version_major": 2,
       "version_minor": 0
      },
      "text/plain": [
       "interactive(children=(IntSlider(value=0, description='t', max=499), Output(layout=Layout(height='350px'))), _d…"
      ]
     },
     "metadata": {},
     "output_type": "display_data"
    }
   ],
   "source": [
    "def f(t=0):\n",
    "    fig, axs = plt.subplots(3,sharex=True,gridspec_kw={\"hspace\":0},figsize=(5,5))\n",
    "    axs[0].plot(FTCS[int(t),:])\n",
    "    axs[1].plot(LW[int(t),:])\n",
    "    axs[2].plot(UW[int(t),:])\n",
    "    \n",
    "    plt.show()\n",
    "\n",
    "interactive_plot = interactive(f, t=(0,499))\n",
    "output = interactive_plot.children[-1]\n",
    "output.layout.height = '350px'\n",
    "interactive_plot"
   ]
  },
  {
   "cell_type": "code",
   "execution_count": null,
   "metadata": {},
   "outputs": [],
   "source": []
  }
 ],
 "metadata": {
  "kernelspec": {
   "display_name": "Python 3 (ipykernel)",
   "language": "python",
   "name": "python3"
  },
  "language_info": {
   "codemirror_mode": {
    "name": "ipython",
    "version": 3
   },
   "file_extension": ".py",
   "mimetype": "text/x-python",
   "name": "python",
   "nbconvert_exporter": "python",
   "pygments_lexer": "ipython3",
   "version": "3.9.7"
  }
 },
 "nbformat": 4,
 "nbformat_minor": 2
}
