{
 "cells": [
  {
   "cell_type": "code",
   "execution_count": 1,
   "id": "bba54d71",
   "metadata": {},
   "outputs": [],
   "source": [
    "%matplotlib inline\n",
    "import numpy as np\n",
    "import matplotlib.pyplot as plt\n",
    "from ipywidgets import interactive\n",
    "from matplotlib import cm\n",
    "import ipyvolume as ipv"
   ]
  },
  {
   "cell_type": "code",
   "execution_count": 52,
   "id": "653f0cef",
   "metadata": {},
   "outputs": [],
   "source": [
    "N_x = 8\n",
    "N_y = 6\n",
    "L_x = 1.5\n",
    "L_y = 1.0\n",
    "t_f = 3.0\n",
    "t_D = 0.1\n",
    "s_x0 = 0\n",
    "s_x1 = 0\n",
    "s_y0 = 0\n",
    "s_y1 = 0\n",
    "with open(\"C:/Users/44748/Documents/Uni/Year 3 Stuff/Scientific Computing/Assignment 5/input.txt\",\"w\") as f:\n",
    "    f.write(\"{}\\n{}\\n{}\\n{}\\n{}\\n{}\\n{}\\n{}\\n{}\\n{}\".format(N_x, N_y, L_x, L_y, t_f, t_D, s_x0, s_x1, s_y0, s_y1))"
   ]
  },
  {
   "cell_type": "code",
   "execution_count": 57,
   "id": "4cc25dbe",
   "metadata": {},
   "outputs": [],
   "source": [
    "out = np.loadtxt(\"C:/Users/44748/Documents/Uni/Year 3 Stuff/Scientific Computing/Assignment 5/output.txt\")"
   ]
  },
  {
   "cell_type": "code",
   "execution_count": 20,
   "id": "525cdf39",
   "metadata": {},
   "outputs": [
    {
     "data": {
      "application/vnd.jupyter.widget-view+json": {
       "model_id": "f736582677ed498bb406860fb59aea6e",
       "version_major": 2,
       "version_minor": 0
      },
      "text/plain": [
       "interactive(children=(IntSlider(value=0, description='t', max=30), Output(layout=Layout(height='350px'))), _do…"
      ]
     },
     "metadata": {},
     "output_type": "display_data"
    }
   ],
   "source": [
    "def f(t=0):\n",
    "    #fig, ax = plt.subplots()\n",
    "    X = out[:N_x, 1]\n",
    "    Y = out[:N_y*N_x:N_x, 2]\n",
    "    u = out[t*N_x*N_y:(t+1)*N_x*N_y, 3]\n",
    "    u=np.reshape(u, (N_y,N_x))\n",
    "    x, y = np.meshgrid(X, Y)\n",
    "\n",
    "    fig, ax = plt.subplots(subplot_kw={\"projection\": \"3d\"})\n",
    "    surf = ax.plot_surface(x, y, u, cmap=cm.coolwarm, linewidth=0, antialiased=False)\n",
    "    plt.show()\n",
    "\n",
    "interactive_plot = interactive(f, t=(0, 30))\n",
    "output = interactive_plot.children[-1]\n",
    "output.layout.height = '350px'\n",
    "interactive_plot"
   ]
  },
  {
   "cell_type": "code",
   "execution_count": 59,
   "id": "d7e3ea4b",
   "metadata": {},
   "outputs": [
    {
     "data": {
      "application/vnd.jupyter.widget-view+json": {
       "model_id": "760584316d4e4ee4a206677b769df913",
       "version_major": 2,
       "version_minor": 0
      },
      "text/plain": [
       "VBox(children=(Figure(camera=PerspectiveCamera(fov=45.0, position=(0.0, 0.0, 2.0), projectionMatrix=(1.0, 0.0,…"
      ]
     },
     "metadata": {},
     "output_type": "display_data"
    }
   ],
   "source": [
    "t=30\n",
    "X = out[:N_x, 1]\n",
    "Y = out[:N_y*N_x:N_x, 2]\n",
    "u = out[t*N_x*N_y:(t+1)*N_x*N_y, 3]\n",
    "u=np.reshape(u, (N_y,N_x))\n",
    "x, y = np.meshgrid(X, Y)\n",
    "\n",
    "ipv.figure()\n",
    "ipv.plot_surface(x, y, u, color=\"orange\")\n",
    "ipv.plot_wireframe(x, y, u, color=\"red\")\n",
    "ipv.show()"
   ]
  },
  {
   "cell_type": "code",
   "execution_count": 9,
   "id": "3123c548",
   "metadata": {},
   "outputs": [
    {
     "data": {
      "application/vnd.jupyter.widget-view+json": {
       "model_id": "1cb8b8b3a0a9466dbb199bce1a83be54",
       "version_major": 2,
       "version_minor": 0
      },
      "text/plain": [
       "VBox(children=(Figure(camera=PerspectiveCamera(fov=45.0, position=(0.0, 0.0, 2.0), projectionMatrix=(1.0, 0.0,…"
      ]
     },
     "metadata": {},
     "output_type": "display_data"
    }
   ],
   "source": [
    "\n",
    "\n",
    "# f(u, v) -> (u, v, u*v**2)\n",
    "a = np.arange(-5, 5)\n",
    "U, V = np.meshgrid(a, a)\n",
    "X = U\n",
    "Y = V\n",
    "Z = X*Y**2\n",
    "\n",
    "ipv.figure()\n",
    "ipv.plot_surface(X, Z, Y, color=\"orange\")\n",
    "ipv.plot_wireframe(X, Z, Y, color=\"red\")\n",
    "ipv.show()\n",
    "\n"
   ]
  },
  {
   "cell_type": "code",
   "execution_count": null,
   "id": "e7c33d68",
   "metadata": {},
   "outputs": [],
   "source": []
  }
 ],
 "metadata": {
  "kernelspec": {
   "display_name": "Python 3 (ipykernel)",
   "language": "python",
   "name": "python3"
  },
  "language_info": {
   "codemirror_mode": {
    "name": "ipython",
    "version": 3
   },
   "file_extension": ".py",
   "mimetype": "text/x-python",
   "name": "python",
   "nbconvert_exporter": "python",
   "pygments_lexer": "ipython3",
   "version": "3.9.7"
  }
 },
 "nbformat": 4,
 "nbformat_minor": 5
}
